{
 "cells": [
  {
   "cell_type": "markdown",
   "id": "89645c50",
   "metadata": {},
   "source": [
    "### 2.1 Write a program to generate the state \n"
   ]
  },
  {
   "cell_type": "markdown",
   "id": "9ca5bb17",
   "metadata": {},
   "source": [
    "$$ 1/\\sqrt{2}*()$$\n"
   ]
  },
  {
   "cell_type": "code",
   "execution_count": null,
   "id": "71d79374",
   "metadata": {},
   "outputs": [],
   "source": [
    "from qiskit import *\n",
    "%matplotlib inline"
   ]
  },
  {
   "cell_type": "code",
   "execution_count": 10,
   "id": "8468be52",
   "metadata": {},
   "outputs": [],
   "source": [
    "qc = QuantumCircuit(2, 2)"
   ]
  },
  {
   "cell_type": "code",
   "execution_count": 11,
   "id": "98df68fe",
   "metadata": {},
   "outputs": [],
   "source": [
    "qc.h(1);"
   ]
  },
  {
   "cell_type": "code",
   "execution_count": 12,
   "id": "2b4db771",
   "metadata": {},
   "outputs": [],
   "source": [
    "qc.cx(0, 1);"
   ]
  },
  {
   "cell_type": "code",
   "execution_count": 13,
   "id": "7f4f7456",
   "metadata": {},
   "outputs": [],
   "source": [
    "qc.cx(1,0);"
   ]
  },
  {
   "cell_type": "code",
   "execution_count": 14,
   "id": "619d04d2",
   "metadata": {},
   "outputs": [
    {
     "data": {
      "image/png": "[encoded data removed]",
      "text/plain": [
       "<Figure size 267.052x204.68 with 1 Axes>"
      ]
     },
     "execution_count": 14,
     "metadata": {},
     "output_type": "execute_result"
    }
   ],
   "source": [
    "qc.draw(output = \"mpl\")"
   ]
  },
  {
   "cell_type": "code",
   "execution_count": 18,
   "id": "1ad081a1",
   "metadata": {},
   "outputs": [
    {
     "data": {
      "text/latex": [
       "$$\\frac{\\sqrt{2}}{2} |01\\rangle+\\frac{\\sqrt{2}}{2} |10\\rangle$$"
      ],
      "text/plain": [
       "<IPython.core.display.Latex object>"
      ]
     },
     "execution_count": 18,
     "metadata": {},
     "output_type": "execute_result"
    }
   ],
   "source": [
    "from qiskit.quantum_info import Statevector\n",
    "state = Statevector.from_int(1, 4)\n",
    "state = state.evolve(qc)\n",
    "state.draw('latex')"
   ]
  }
 ],
 "metadata": {
  "kernelspec": {
   "display_name": "Python 3 (ipykernel)",
   "language": "python",
   "name": "python3"
  },
  "language_info": {
   "codemirror_mode": {
    "name": "ipython",
    "version": 3
   },
   "file_extension": ".py",
   "mimetype": "text/x-python",
   "name": "python",
   "nbconvert_exporter": "python",
   "pygments_lexer": "ipython3",
   "version": "3.9.7"
  }
 },
 "nbformat": 4,
 "nbformat_minor": 5
}
