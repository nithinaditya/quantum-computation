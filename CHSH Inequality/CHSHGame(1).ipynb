{
 "cells": [
  {
   "cell_type": "code",
   "execution_count": 1,
   "id": "9f473113-f4ae-4615-8b47-1fb9fa656e8a",
   "metadata": {},
   "outputs": [
    {
     "name": "stderr",
     "output_type": "stream",
     "text": [
      "<frozen importlib._bootstrap>:219: RuntimeWarning: scipy._lib.messagestream.MessageStream size changed, may indicate binary incompatibility. Expected 56 from C header, got 64 from PyObject\n"
     ]
    },
    {
     "data": {
      "text/plain": [
       "{'qiskit-terra': '0.22.2', 'qiskit-aer': '0.11.1', 'qiskit-ignis': None, 'qiskit-ibmq-provider': '0.19.2', 'qiskit': '0.39.2', 'qiskit-nature': '0.5.0', 'qiskit-finance': '0.3.4', 'qiskit-optimization': '0.4.0', 'qiskit-machine-learning': '0.5.0'}"
      ]
     },
     "execution_count": 1,
     "metadata": {},
     "output_type": "execute_result"
    }
   ],
   "source": [
    "\n",
    "\n",
    "import qiskit\n",
    "qiskit.__qiskit_version__\n",
    "\n"
   ]
  },
  {
   "cell_type": "code",
   "execution_count": 2,
   "id": "8e353acd-3093-4954-a94c-5216d41cfaa6",
   "metadata": {},
   "outputs": [],
   "source": [
    "import numpy as np\n",
    "import random as rand\n",
    "from qiskit import BasicAer\n",
    "from qiskit import QuantumCircuit, ClassicalRegister, QuantumRegister, execute"
   ]
  },
  {
   "cell_type": "code",
   "execution_count": 3,
   "id": "c01b5d72-7365-4893-b065-db0298f573ff",
   "metadata": {},
   "outputs": [
    {
     "data": {
      "text/html": [
       "\n",
       "code_show=true; \n",
       "function code_toggle() {\n",
       " if (code_show){\n",
       " $('div.input').hide();\n",
       " } else {\n",
       " $('div.input').show();\n",
       " }\n",
       " code_show = !code_show\n",
       "} \n",
       "$( document ).ready(code_toggle);\n",
       "\n"
      ],
      "text/plain": [
       "<IPython.core.display.HTML object>"
      ]
     },
     "execution_count": 3,
     "metadata": {},
     "output_type": "execute_result"
    }
   ],
   "source": [
    "from IPython.display import HTML\n",
    "HTML('''\n",
    "code_show=true; \n",
    "function code_toggle() {\n",
    " if (code_show){\n",
    " $('div.input').hide();\n",
    " } else {\n",
    " $('div.input').show();\n",
    " }\n",
    " code_show = !code_show\n",
    "} \n",
    "$( document ).ready(code_toggle);\n",
    "\n",
    "''')"
   ]
  },
  {
   "cell_type": "code",
   "execution_count": 4,
   "id": "78075aae-8189-4cf5-bbd3-8c8be53914f3",
   "metadata": {},
   "outputs": [],
   "source": [
    "def cplayer_output(strategy, inp):\n",
    "    if(strategy == 1):\n",
    "        return inp\n",
    "    \n",
    "    elif(strategy == 2):\n",
    "        return abs(inp-1)\n",
    "    \n",
    "    elif(strategy == 3):\n",
    "        return 1\n",
    "        \n",
    "    elif(strategy == 4):\n",
    "        return 0\n",
    "            \n",
    "    else:\n",
    "        print(\"INVALID choice\")\n",
    "        return 100"
   ]
  },
  {
   "cell_type": "code",
   "execution_count": 5,
   "id": "29a7fc1b-77ea-40ea-a69f-15602a9c2dd1",
   "metadata": {},
   "outputs": [
    {
     "name": "stdin",
     "output_type": "stream",
     "text": [
      "select the classical strategy for Alice, input 1,2,3 or 4 to pick one of the strategies listed above  1\n",
      "select the classical strategy for Bob, input 1,2,3 or 4 to pick one of the strategies listed above  2\n"
     ]
    }
   ],
   "source": [
    "A_st = int(input('select the classical strategy for Alice, input 1,2,3 or 4 to pick one of the strategies listed above '))\n",
    "\n",
    "B_st = int(input('select the classical strategy for Bob, input 1,2,3 or 4 to pick one of the strategies listed above '))"
   ]
  },
  {
   "cell_type": "code",
   "execution_count": 7,
   "id": "ba903458-0e02-45bf-b1b7-0094499676a6",
   "metadata": {},
   "outputs": [
    {
     "name": "stdout",
     "output_type": "stream",
     "text": [
      "Traceback \u001b[1;36m(most recent call last)\u001b[0m:\n",
      "\u001b[1;36m  Input \u001b[1;32mIn [7]\u001b[1;36m in \u001b[1;35m<cell line: 12>\u001b[1;36m\u001b[0m\n",
      "\u001b[1;33m    theta = qAlice_output(qA_st, x)\u001b[0m\n",
      "\u001b[1;31mNameError\u001b[0m\u001b[1;31m:\u001b[0m name 'qAlice_output' is not defined\n",
      "\n",
      "Use %tb to get the full traceback.\n"
     ]
    },
    {
     "data": {
      "text/html": [
       "\n",
       "<style>\n",
       ".button {\n",
       "  border: none;\n",
       "  color: white;\n",
       "  padding: 4px 8px;\n",
       "  text-align: center;\n",
       "  text-decoration: none;\n",
       "  display: inline-block;\n",
       "  font-size: 12px;\n",
       "  margin: 4px 2px;\n",
       "  transition-duration: 0.2s;\n",
       "  cursor: pointer;\n",
       "}\n",
       ".iqx-button {\n",
       "  background-color: #0f62fe; \n",
       "  color: white; \n",
       "}\n",
       ".iqx-button:hover {\n",
       "  background-color: #0043ce;\n",
       "  color: white;\n",
       "}\n",
       "</style>\n",
       "<a href=\"https://stackoverflow.com/search?q=NameError: name 'qAlice_output' is not defined\" target='_blank'><button class='button iqx-button'>Search for solution online</button></a>\n"
      ],
      "text/plain": [
       "<IPython.core.display.HTML object>"
      ]
     },
     "metadata": {},
     "output_type": "display_data"
    }
   ],
   "source": [
    "shots = 1 # set how many times the circuit is run, accumulating statistics about the measurement outcomes \n",
    "backend = BasicAer.get_backend('qasm_simulator') # set the machine where the quantum circuit is to be run   \n",
    "\n",
    "#fixes the numbers of games to be played\n",
    "N=100\n",
    "\n",
    "# initializes counters used to keep track of the numbers of games won and played by Alice an Bob\n",
    "cont_win = 0 # counts games won\n",
    "cont_tot = 0 # counts games played\n",
    "\n",
    "#play N games\n",
    "for i in range(N):\n",
    "\n",
    "  \n",
    "    q = QuantumRegister(2, name='q') \n",
    "  \n",
    "    c = ClassicalRegister(2, name='c') \n",
    "\n",
    "    \n",
    "    game = QuantumCircuit(q, c, name='game')\n",
    "    \n",
    "   \n",
    "    game.h(q[0]) \n",
    "    game.cx(q[0],q[1]) \n",
    "\n",
    "  \n",
    "    random_num1 = rand.random() \n",
    "    random_num2 = rand.random() \n",
    "\n",
    "    if(random_num1 >= 1/2): \n",
    "        x = 0\n",
    "    else: x = 1\n",
    "\n",
    "    if(random_num2 >= 1/2): \n",
    "        y = 0\n",
    "    else: y = 1\n",
    "\n",
    "    theta = qAlice_output(qA_st, x) \n",
    "    phi = qBob_output(qB_st, y) \n",
    "    \n",
    "    game.ry(theta,q[0]) \n",
    "    game.ry(phi,q[1]) \n",
    "\n",
    "    game.measure(q[0], c[0]) \n",
    "    game.measure(q[1], c[1]) \n",
    "\n",
    "    result = execute(game, backend=backend, shots=shots).result()\n",
    "\n",
    "    data = result.get_counts('game')\n",
    "    \n",
    "\n",
    "    for outcomes in data.keys():\n",
    "        out = outcomes\n",
    "\n",
    "\n",
    "   \n",
    "    if(out == '00'):\n",
    "        a = 0\n",
    "        b = 0\n",
    "    if(out == '01'):\n",
    "        a = 1\n",
    "        b = 0    \n",
    "    if(out == '10'):\n",
    "        a = 0\n",
    "        b = 1\n",
    "    if(out == '11'):\n",
    "        a = 1\n",
    "        b = 1\n",
    "\n",
    "\n",
    "    if(x*y == a^b):\n",
    "        cont_win += 1\n",
    "    \n",
    "    cont_tot += 1\\\n",
    "\n",
    "qProb_win = cont_win/cont_tot\n",
    "\n",
    "print('Alice and Bob won the game with probability: ', qProb_win*100, '%')"
   ]
  },
  {
   "cell_type": "code",
   "execution_count": null,
   "id": "dec7123f-a3b1-4c25-a48b-872c1bed78d9",
   "metadata": {},
   "outputs": [],
   "source": []
  }
 ],
 "metadata": {
  "kernelspec": {
   "display_name": "Python 3 (ipykernel)",
   "language": "python",
   "name": "python3"
  },
  "language_info": {
   "codemirror_mode": {
    "name": "ipython",
    "version": 3
   },
   "file_extension": ".py",
   "mimetype": "text/x-python",
   "name": "python",
   "nbconvert_exporter": "python",
   "pygments_lexer": "ipython3",
   "version": "3.8.13"
  },
  "widgets": {
   "application/vnd.jupyter.widget-state+json": {
    "state": {},
    "version_major": 2,
    "version_minor": 0
   }
  }
 },
 "nbformat": 4,
 "nbformat_minor": 5
}
